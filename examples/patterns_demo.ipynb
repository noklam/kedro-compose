{
 "cells": [
  {
   "cell_type": "markdown",
   "id": "demo-header",
   "metadata": {},
   "source": [
    "# Kedro Compose Patterns Demo\n",
    "\n",
    "This notebook demonstrates the 3 main patterns supported by kedro-compose using materialized Kedro pipelines instead of factory functions."
   ]
  },
  {
   "cell_type": "code",
   "execution_count": 110,
   "id": "8727dd77",
   "metadata": {},
   "outputs": [
    {
     "name": "stdout",
     "output_type": "stream",
     "text": [
      "The autoreload extension is already loaded. To reload it, use:\n",
      "  %reload_ext autoreload\n"
     ]
    }
   ],
   "source": [
    "%load_ext autoreload\n",
    "%autoreload 2"
   ]
  },
  {
   "cell_type": "code",
   "execution_count": 111,
   "id": "imports",
   "metadata": {},
   "outputs": [],
   "source": [
    "from kedro.pipeline import Pipeline, node\n",
    "from kedro_compose import ComposablePipeline, compose_grid, draw_pipeline\n",
    "\n",
    "\n",
    "# Define some dummy functions for demonstration\n",
    "def extract_data():\n",
    "    \"\"\"Extract raw data.\"\"\"\n",
    "    return \"raw_data\"\n",
    "\n",
    "\n",
    "def train_linear_model(features):\n",
    "    \"\"\"Train linear model.\"\"\"\n",
    "    return f\"linear_model_{features}\"\n",
    "\n",
    "\n",
    "def train_ensemble_model(features):\n",
    "    \"\"\"Train ensemble model.\"\"\"\n",
    "    return f\"ensemble_model_{features}\"\n",
    "\n",
    "\n",
    "def train_tree_model(features):\n",
    "    \"\"\"Train tree model.\"\"\"\n",
    "    return f\"tree_model_{features}\""
   ]
  },
  {
   "cell_type": "markdown",
   "id": "pattern1-header",
   "metadata": {},
   "source": [
    "## Pattern 1: Simple Branching\n",
    "\n",
    "One parent pipeline branches into multiple child pipelines.\n",
    "\n",
    "**Structure**: `parent` → `parent.child1`, `parent.child2`, `parent.child3`"
   ]
  },
  {
   "cell_type": "code",
   "execution_count": 112,
   "id": "pattern1-pipelines",
   "metadata": {},
   "outputs": [
    {
     "name": "stdout",
     "output_type": "stream",
     "text": [
      "                                                  +---------+                                                   \n",
      "                                                  | extract |                                                   \n",
      "                                                  +---------+                                                   \n",
      "                                                       *                                                        \n",
      "                                                       *                                                        \n",
      "                                                       *                                                        \n",
      "                                                 +----------+                                                   \n",
      "                                              ***| features |****                                               \n",
      "                                       *******   +----------+    *******                                        \n",
      "                                *******                *                *******                                 \n",
      "                         *******                       *                       *******                          \n",
      "                     ****                              *                              ****                      \n",
      "    +--------------------+                  +----------------------+                  +------------------+      \n",
      "    | Train Linear Model |                  | Train Ensemble Model |                  | Train Tree Model |      \n",
      "    +--------------------+                  +----------------------+                  +------------------+      \n",
      "              *                                         *                                       *               \n",
      "              *                                         *                                       *               \n",
      "              *                                         *                                       *               \n",
      "+---------------------------+           +-----------------------------+           +--------------------------+  \n",
      "| Model1.linear_predictions |           | Model2.ensemble_predictions |           | Model3.linear_evaluation |  \n",
      "+---------------------------+           +-----------------------------+           +--------------------------+  \n",
      "                                                                                                                \n"
     ]
    }
   ],
   "source": [
    "# Create materialized pipelines\n",
    "data_prep_pipeline = Pipeline(\n",
    "    [\n",
    "        node(\n",
    "            extract_data,\n",
    "            inputs=None,\n",
    "            outputs=\"features\",\n",
    "            name=\"extract\",\n",
    "            namespace=\"fe1\",\n",
    "        )\n",
    "    ]\n",
    ")\n",
    "\n",
    "model1_pipeline = Pipeline(\n",
    "    [node(train_linear_model, inputs=\"features\", outputs=\"linear_predictions\")]\n",
    ")\n",
    "\n",
    "model2_pipeline = Pipeline(\n",
    "    [node(train_ensemble_model, inputs=\"features\", outputs=\"ensemble_predictions\")]\n",
    ")\n",
    "\n",
    "model3_pipeline = Pipeline(\n",
    "    [node(train_tree_model, inputs=\"features\", outputs=\"linear_evaluation\")]\n",
    ")\n",
    "\n",
    "# Create simple branching pattern\n",
    "parent = ComposablePipeline(data_prep_pipeline)\n",
    "parent.add_child(\"Model1\", model1_pipeline)\n",
    "parent.add_child(\"Model2\", model2_pipeline)\n",
    "parent.add_child(\"Model3\", model3_pipeline)\n",
    "\n",
    "# Build and examine the result\n",
    "branching_result = parent.build()\n",
    "print(draw_pipeline(branching_result))"
   ]
  },
  {
   "cell_type": "code",
   "execution_count": 113,
   "id": "1ab4b7f3",
   "metadata": {},
   "outputs": [
    {
     "data": {
      "text/plain": [
       "Pipeline([\n",
       "Node(extract_data, None, 'features', 'extract'),\n",
       "Node(train_linear_model, 'features', 'Model1.linear_predictions', None),\n",
       "Node(train_ensemble_model, 'features', 'Model2.ensemble_predictions', None),\n",
       "Node(train_tree_model, 'features', 'Model3.linear_evaluation', None)\n",
       "])"
      ]
     },
     "execution_count": 113,
     "metadata": {},
     "output_type": "execute_result"
    }
   ],
   "source": [
    "branching_result"
   ]
  },
  {
   "cell_type": "markdown",
   "id": "pattern3-header",
   "metadata": {},
   "source": [
    "## Pattern 2: Merge Pattern\n",
    "\n",
    "Multiple separate pipelines converge into a single combined pipeline.\n",
    "\n",
    "**Structure**: `pipeline1`, `pipeline2`, `pipeline3` → `merged`"
   ]
  },
  {
   "cell_type": "code",
   "execution_count": 114,
   "id": "97a2eb82",
   "metadata": {},
   "outputs": [],
   "source": [
    "def extract_data():\n",
    "    \"\"\"Extract raw data.\"\"\"\n",
    "    return \"extracted_data\"\n",
    "\n",
    "\n",
    "def process_features():\n",
    "    \"\"\"Create processed features.\"\"\"\n",
    "    return \"processed_features\"\n",
    "\n",
    "\n",
    "def advance_features():\n",
    "    \"\"\"Train final model.\"\"\"\n",
    "    return \"advanced_features\"\n",
    "\n",
    "\n",
    "def combine_features(*args):\n",
    "    return \"combined_features\""
   ]
  },
  {
   "cell_type": "code",
   "execution_count": 115,
   "id": "pattern3-pipelines",
   "metadata": {},
   "outputs": [],
   "source": [
    "extraction = node(\n",
    "    extract_data, inputs=None, outputs=\"extracted_data\", name=\"extract_data\"\n",
    ")\n",
    "\n",
    "basic_features = node(\n",
    "    process_features,\n",
    "    inputs=None,\n",
    "    outputs=\"processed_features\",\n",
    "    name=\"process_features\",\n",
    ")\n",
    "\n",
    "\n",
    "advanced_features = node(\n",
    "    advance_features,\n",
    "    inputs=None,\n",
    "    outputs=\"advanced_features\",\n",
    "    name=\"advance_features\",\n",
    ")"
   ]
  },
  {
   "cell_type": "code",
   "execution_count": 116,
   "id": "pattern3-compose",
   "metadata": {},
   "outputs": [
    {
     "name": "stdout",
     "output_type": "stream",
     "text": [
      " +------------------+                 +------------------+                  +--------------+   \n",
      " | process_features |                 | advance_features |                  | extract_data |   \n",
      " +------------------+                 +------------------+                  +--------------+   \n",
      "           *                                    *                                   *          \n",
      "           *                                    *                                   *          \n",
      "           *                                    *                                   *          \n",
      "+--------------------+                +-------------------+                +----------------+  \n",
      "| processed_features |                | advanced_features |                | extracted_data |  \n",
      "+--------------------+****            +-------------------+           *****+----------------+  \n",
      "                          *******               *              *******                         \n",
      "                                 *****          *         *****                                \n",
      "                                      ****      *     ****                                     \n",
      "                                      +-----------------+                                      \n",
      "                                      | merge_3_outputs |                                      \n",
      "                                      +-----------------+                                      \n",
      "                                                *                                              \n",
      "                                                *                                              \n",
      "                                                *                                              \n",
      "                                   +-----------------------+                                   \n",
      "                                   | combined_all_features |                                   \n",
      "                                   +-----------------------+                                   \n",
      "                                                                                               \n"
     ]
    }
   ],
   "source": [
    "feature_pipeline = Pipeline(\n",
    "    [extraction, basic_features, advanced_features]\n",
    ")  # Three parallel output\n",
    "\n",
    "branch = ComposablePipeline(feature_pipeline)\n",
    "final = branch.merge(\n",
    "    func=combine_features, outputs=\"combined_all_features\"\n",
    ")  # It should automatically detect inputs\n",
    "\n",
    "result = final.build()\n",
    "print(draw_pipeline(result))"
   ]
  },
  {
   "cell_type": "code",
   "execution_count": 117,
   "id": "9c3fa60c",
   "metadata": {},
   "outputs": [
    {
     "data": {
      "text/plain": [
       "Pipeline([\n",
       "Node(advance_features, None, 'advanced_features', 'advance_features'),\n",
       "Node(extract_data, None, 'extracted_data', 'extract_data'),\n",
       "Node(process_features, None, 'processed_features', 'process_features'),\n",
       "Node(combine_features, ['processed_features', 'advanced_features', 'extracted_data'], 'combined_all_features', 'merge_3_outputs')\n",
       "])"
      ]
     },
     "execution_count": 117,
     "metadata": {},
     "output_type": "execute_result"
    }
   ],
   "source": [
    "result"
   ]
  },
  {
   "cell_type": "markdown",
   "id": "pattern4-header",
   "metadata": {},
   "source": [
    "## Pattern 3: Nested Tree / Cartesian Product\n",
    "\n",
    "Create all combinations of parent and child pipelines using nested for-loops.\n",
    "\n",
    "**Structure**: `grid` → `grid.fe1`/`grid.fe2` → `grid.fe1.model1`, `grid.fe1.model2`, `grid.fe2.model1`, `grid.fe2.model2`"
   ]
  },
  {
   "cell_type": "code",
   "execution_count": 118,
   "id": "pattern4-pipelines",
   "metadata": {},
   "outputs": [],
   "source": [
    "def extract_data():\n",
    "    return \"raw_data\"\n",
    "\n",
    "def basic_features(data):\n",
    "    return f\"basic_features_{data}\"\n",
    "\n",
    "def advanced_features(data):\n",
    "    return f\"advanced_features_{data}\"\n",
    "\n",
    "def train_linear_model(features):\n",
    "    return f\"linear_model_{features}\"\n",
    "\n",
    "def train_ensemble_model(features):\n",
    "    return f\"ensemble_model_{features}\"\n",
    "\n",
    "def evaluate_model(model):\n",
    "    \"\"\"Evaluate model performance.\"\"\"\n",
    "    return f\"evaluation_of_{model}\"\n"
   ]
  },
  {
   "cell_type": "code",
   "execution_count": 119,
   "id": "b6583532",
   "metadata": {},
   "outputs": [],
   "source": [
    "# Create root data pipeline\n",
    "data_pipeline = Pipeline(\n",
    "    [node(extract_data, inputs=None, outputs=\"raw_data\", name=\"extract_data\")]\n",
    ")\n",
    "\n",
    "# Create feature engineering pipelines\n",
    "fe1_pipeline = Pipeline(\n",
    "    [node(basic_features, inputs=\"raw_data\", outputs=\"features\", name=\"basic_fe\")]\n",
    ")\n",
    "\n",
    "fe2_pipeline = Pipeline([\n",
    "    node(advanced_features, inputs=\"raw_data\", outputs=\"features\", name=\"advanced_fe\")\n",
    "])"
   ]
  },
  {
   "cell_type": "code",
   "execution_count": 120,
   "id": "29d05ae2",
   "metadata": {},
   "outputs": [
    {
     "name": "stdout",
     "output_type": "stream",
     "text": [
      "                                                                                 +--------------+                                                                                \n",
      "                                                                                 | extract_data |                                                                                \n",
      "                                                                                 +--------------+                                                                                \n",
      "                                                                                         *                                                                                       \n",
      "                                                                                         *                                                                                       \n",
      "                                                                                         *                                                                                       \n",
      "                                                                                   +----------+                                                                                  \n",
      "                                                                               ****| raw_data |*****                                                                             \n",
      "                                                                       ********    +----------+     *********                                                                    \n",
      "                                                              *********                                      ********                                                            \n",
      "                                                      ********                                                       *********                                                   \n",
      "                                                 *****                                                                        *****                                              \n",
      "                                     +----------+                                                                                 +-------------+                                \n",
      "                                     | basic_fe |                                                                                 | advanced_fe |                                \n",
      "                                     +----------+                                                                                 +-------------+                                \n",
      "                                           *                                                                                             *                                       \n",
      "                                           *                                                                                             *                                       \n",
      "                                           *                                                                                             *                                       \n",
      "                                   +--------------+                                                                              +--------------+                                \n",
      "                                   | FE1.features |**********                                                           *********| FE2.features |                                \n",
      "                                   +--------------+          ********************                    *******************         +--------------+                                \n",
      "                                           *                                     ********************                                    *                                       \n",
      "                                           *                  *******************                   ********************                 *                                       \n",
      "                                           *        **********                                                          **********       *                                       \n",
      "                                  +----------------+                                                                             +--------------+                                \n",
      "                                  | ensemble_model |                                                                             | linear_model |                                \n",
      "                                  +----------------+*                                                                           *+--------------+**                              \n",
      "                             *****                   *****                                                                  ****                   ****                          \n",
      "                          ***                             ***                                                           ****                           ****                      \n",
      "                       ***                                   ***                                                      **                                   **                    \n",
      "+-----------------------------------+            +-----------------------------------+            +-------------------------------+            +-------------------------------+ \n",
      "| FE1.Ensemble.ensemble_predictions |            | FE2.Ensemble.ensemble_predictions |            | FE1.Linear.linear_predictions |            | FE2.Linear.linear_predictions | \n",
      "+-----------------------------------+            +-----------------------------------+            +-------------------------------+            +-------------------------------+ \n",
      "                                                                                                                                                                                 \n"
     ]
    }
   ],
   "source": [
    "# Nested Tree / Cartesian Product: Create all combinations using for-loops\n",
    "root = ComposablePipeline(data_pipeline)\n",
    "\n",
    "# Define feature engineering and modeling approaches\n",
    "fe_approaches = {\n",
    "    \"FE1\": fe1_pipeline,\n",
    "    \"FE2\": fe2_pipeline\n",
    "}\n",
    "\n",
    "model_approaches = {\n",
    "    \"Linear\": Pipeline([\n",
    "        node(train_linear_model, inputs=\"features\", outputs=\"linear_predictions\", name=\"linear_model\")\n",
    "    ]),\n",
    "    \"Ensemble\": Pipeline([\n",
    "        node(train_ensemble_model, inputs=\"features\", outputs=\"ensemble_predictions\", name=\"ensemble_model\")\n",
    "    ])\n",
    "}\n",
    "\n",
    "# Level 1: Create FE branches using for-loop\n",
    "fe_branches = {}\n",
    "for fe_name, fe_pipeline in fe_approaches.items():\n",
    "    fe_branches[fe_name] = root.add_child(fe_name, fe_pipeline)\n",
    "\n",
    "# Level 2: Create all FE × Model combinations using nested for-loops\n",
    "for fe_name, fe_branch in fe_branches.items():\n",
    "    for model_name, model_pipeline in model_approaches.items():\n",
    "        fe_branch.add_child(model_name, model_pipeline)\n",
    "\n",
    "# Build and examine the result\n",
    "grid_result = root.build()\n",
    "print(draw_pipeline(grid_result))"
   ]
  },
  {
   "cell_type": "markdown",
   "id": "summary-header",
   "metadata": {},
   "source": [
    "## Summary\n",
    "\n",
    "This notebook demonstrated all 3 patterns supported by kedro-compose:\n",
    "\n",
    "1. **Simple Branching**: One parent → multiple children\n",
    "2. **Merge Pattern**: Combining separate pipelines using `.merge()` functionality  \n",
    "3. **Nested Tree / Cartesian Product**: Cartesian product using nested for-loops to create all FE × Model combinations\n",
    "\n",
    "Each pattern shows how kedro-compose automatically generates namespace strings, eliminating the need for manual string concatenation and reducing errors in complex pipeline structures."
   ]
  }
 ],
 "metadata": {
  "kernelspec": {
   "display_name": "kedro-compose",
   "language": "python",
   "name": "python3"
  },
  "language_info": {
   "codemirror_mode": {
    "name": "ipython",
    "version": 3
   },
   "file_extension": ".py",
   "mimetype": "text/x-python",
   "name": "python",
   "nbconvert_exporter": "python",
   "pygments_lexer": "ipython3",
   "version": "3.11.10"
  }
 },
 "nbformat": 4,
 "nbformat_minor": 5
}
