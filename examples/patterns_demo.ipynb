{
 "cells": [
  {
   "cell_type": "markdown",
   "id": "demo-header",
   "metadata": {},
   "source": [
    "# Kedro Compose Patterns Demo\n",
    "\n",
    "This notebook demonstrates the 4 main patterns supported by kedro-compose using materialized Kedro pipelines instead of factory functions."
   ]
  },
  {
   "cell_type": "code",
   "execution_count": 29,
   "id": "8727dd77",
   "metadata": {},
   "outputs": [
    {
     "name": "stdout",
     "output_type": "stream",
     "text": [
      "The autoreload extension is already loaded. To reload it, use:\n",
      "  %reload_ext autoreload\n"
     ]
    }
   ],
   "source": [
    "%load_ext autoreload\n",
    "%autoreload 2"
   ]
  },
  {
   "cell_type": "code",
   "execution_count": 30,
   "id": "imports",
   "metadata": {},
   "outputs": [],
   "source": [
    "from kedro.pipeline import Pipeline, node\n",
    "from kedro_compose import ComposablePipeline, compose_grid, draw_pipeline\n",
    "\n",
    "# Define some dummy functions for demonstration\n",
    "def extract_data():\n",
    "    \"\"\"Extract raw data.\"\"\"\n",
    "    return \"raw_data\"\n",
    "\n",
    "def train_linear_model(features):\n",
    "    \"\"\"Train linear model.\"\"\"\n",
    "    return f\"linear_model_{features}\"\n",
    "\n",
    "def train_ensemble_model(features):\n",
    "    \"\"\"Train ensemble model.\"\"\"\n",
    "    return f\"ensemble_model_{features}\"\n",
    "\n",
    "def train_tree_model(features):\n",
    "    \"\"\"Train tree model.\"\"\"\n",
    "    return f\"tree_model_{features}\""
   ]
  },
  {
   "cell_type": "markdown",
   "id": "pattern1-header",
   "metadata": {},
   "source": [
    "## Pattern 1: Simple Branching\n",
    "\n",
    "One parent pipeline branches into multiple child pipelines.\n",
    "\n",
    "**Structure**: `parent` → `parent.child1`, `parent.child2`, `parent.child3`"
   ]
  },
  {
   "cell_type": "code",
   "execution_count": 31,
   "id": "pattern1-pipelines",
   "metadata": {},
   "outputs": [
    {
     "name": "stdout",
     "output_type": "stream",
     "text": [
      "                                                  +---------+                                                   \n",
      "                                                  | extract |                                                   \n",
      "                                                  +---------+                                                   \n",
      "                                                       *                                                        \n",
      "                                                       *                                                        \n",
      "                                                       *                                                        \n",
      "                                                 +----------+                                                   \n",
      "                                              ***| features |****                                               \n",
      "                                       *******   +----------+    *******                                        \n",
      "                                *******                *                *******                                 \n",
      "                         *******                       *                       *******                          \n",
      "                     ****                              *                              ****                      \n",
      "    +--------------------+                  +----------------------+                  +------------------+      \n",
      "    | Train Linear Model |                  | Train Ensemble Model |                  | Train Tree Model |      \n",
      "    +--------------------+                  +----------------------+                  +------------------+      \n",
      "              *                                         *                                       *               \n",
      "              *                                         *                                       *               \n",
      "              *                                         *                                       *               \n",
      "+---------------------------+           +-----------------------------+           +--------------------------+  \n",
      "| Model1.linear_predictions |           | Model2.ensemble_predictions |           | Model3.linear_evaluation |  \n",
      "+---------------------------+           +-----------------------------+           +--------------------------+  \n",
      "                                                                                                                \n"
     ]
    }
   ],
   "source": [
    "# Create materialized pipelines\n",
    "data_prep_pipeline = Pipeline([\n",
    "    node(extract_data, inputs=None, outputs=\"features\", name=\"extract\", namespace=\"fe1\")\n",
    "])\n",
    "\n",
    "model1_pipeline = Pipeline([\n",
    "    node(train_linear_model, inputs=\"features\", outputs=\"linear_predictions\")\n",
    "])\n",
    "\n",
    "model2_pipeline = Pipeline([\n",
    "    node(train_ensemble_model, inputs=\"features\", outputs=\"ensemble_predictions\")\n",
    "])\n",
    "\n",
    "model3_pipeline = Pipeline([\n",
    "    node(train_tree_model, inputs=\"features\", outputs=\"linear_evaluation\")\n",
    "])\n",
    "\n",
    "# Create simple branching pattern\n",
    "parent = ComposablePipeline(data_prep_pipeline)\n",
    "parent.add_child(\"Model1\", model1_pipeline)\n",
    "parent.add_child(\"Model2\", model2_pipeline)\n",
    "parent.add_child(\"Model3\", model3_pipeline)\n",
    "\n",
    "# Build and examine the result\n",
    "branching_result = parent.build()\n",
    "print(draw_pipeline(branching_result))"
   ]
  },
  {
   "cell_type": "code",
   "execution_count": 32,
   "id": "1ab4b7f3",
   "metadata": {},
   "outputs": [
    {
     "data": {
      "text/plain": [
       "Pipeline([\n",
       "Node(extract_data, None, 'features', 'extract'),\n",
       "Node(train_linear_model, 'features', 'Model1.linear_predictions', None),\n",
       "Node(train_ensemble_model, 'features', 'Model2.ensemble_predictions', None),\n",
       "Node(train_tree_model, 'features', 'Model3.linear_evaluation', None)\n",
       "])"
      ]
     },
     "execution_count": 32,
     "metadata": {},
     "output_type": "execute_result"
    }
   ],
   "source": [
    "branching_result"
   ]
  },
  {
   "cell_type": "markdown",
   "id": "pattern2-header",
   "metadata": {},
   "source": [
    "## Pattern 2: Multi-Level Tree\n",
    "Hierarchical branching structure with multiple levels.\n"
   ]
  },
  {
   "cell_type": "code",
   "execution_count": 33,
   "id": "pattern2-pipelines",
   "metadata": {},
   "outputs": [],
   "source": [
    "# Structure: `root` → `root.fe`/`root.ml` → `root.fe.basic`/`root.fe.advanced`/`root.ml.linear`/`root.ml.ensemble`\n",
    "def extract_data():\n",
    "    return \"raw_data\"\n",
    "\n",
    "def basic_features(data):\n",
    "    return f\"basic_features_{data}\"\n",
    "\n",
    "def advanced_features(data):\n",
    "    return f\"advanced_features_{data}\"\n",
    "\n",
    "def train_linear_model(features):\n",
    "    return f\"linear_model_{features}\"\n",
    "\n",
    "def train_ensemble_model(features):\n",
    "    return f\"ensemble_model_{features}\"\n",
    "\n",
    "root_pipeline = Pipeline([\n",
    "    node(extract_data, inputs=None, outputs=\"raw_data\", name=\"extract_root\")\n",
    "])\n",
    "\n",
    "fe_pipeline = Pipeline([\n",
    "    node(lambda x: f\"preprocessed_{x}\", inputs=\"raw_data\", outputs=\"preprocessed_data\", name=\"preprocess\")\n",
    "])\n",
    "\n",
    "ml_pipeline = Pipeline([\n",
    "    node(lambda x: f\"ml_ready_{x}\", inputs=\"raw_data\", outputs=\"ml_ready_data\", name=\"prepare_ml\")\n",
    "])\n",
    "\n",
    "basic_fe_pipeline = Pipeline([\n",
    "    node(basic_features, inputs=\"preprocessed_data\", outputs=\"basic_features\", name=\"create_basic_features\")\n",
    "])\n",
    "\n",
    "advanced_fe_pipeline = Pipeline([\n",
    "    node(advanced_features, inputs=\"preprocessed_data\", outputs=\"advanced_features\", name=\"create_advanced_features\")\n",
    "])\n",
    "\n",
    "linear_ml_pipeline = Pipeline([\n",
    "    node(train_linear_model, inputs=\"ml_ready_data\", outputs=\"linear_model\", name=\"train_linear_model\")\n",
    "])\n",
    "\n",
    "ensemble_ml_pipeline = Pipeline([\n",
    "    node(train_ensemble_model, inputs=\"ml_ready_data\", outputs=\"ensemble_model\", name=\"train_ensemble_model\")\n",
    "])"
   ]
  },
  {
   "cell_type": "code",
   "execution_count": 34,
   "id": "pattern2-compose",
   "metadata": {},
   "outputs": [
    {
     "name": "stdout",
     "output_type": "stream",
     "text": [
      "                                                                      +--------------+                                                                    \n",
      "                                                                      | extract_root |                                                                    \n",
      "                                                                      +--------------+                                                                    \n",
      "                                                                              *                                                                           \n",
      "                                                                              *                                                                           \n",
      "                                                                              *                                                                           \n",
      "                                                                        +----------+                                                                      \n",
      "                                                                     ***| raw_data |****                                                                  \n",
      "                                                              *******   +----------+    *******                                                           \n",
      "                                                       *******                                 *******                                                    \n",
      "                                                *******                                               *******                                             \n",
      "                                            ****                                                             ****                                         \n",
      "                              +------------+                                                                    +------------+                            \n",
      "                              | preprocess |                                                                    | prepare_ml |                            \n",
      "                              +------------+                                                                    +------------+                            \n",
      "                                      *                                                                                *                                  \n",
      "                                      *                                                                                *                                  \n",
      "                                      *                                                                                *                                  \n",
      "                          +----------------------+                                                           +------------------+                         \n",
      "                          | FE.preprocessed_data |                                                           | ML.ml_ready_data |                         \n",
      "                          +----------------------+                                                           +------------------+                         \n",
      "                          ***                  ***                                                          ***                 ***                       \n",
      "                      ****                        ****                                                  ****                       ****                   \n",
      "                    **                                **                                              **                               **                 \n",
      "  +--------------------------+                +-----------------------+                +----------------------+                 +--------------------+    \n",
      "  | create_advanced_features |                | create_basic_features |                | train_ensemble_model |                 | train_linear_model |    \n",
      "  +--------------------------+                +-----------------------+                +----------------------+                 +--------------------+    \n",
      "                *                                         *                                        *                                       *              \n",
      "                *                                         *                                        *                                       *              \n",
      "                *                                         *                                        *                                       *              \n",
      "+-------------------------------+            +-------------------------+            +----------------------------+            +------------------------+  \n",
      "| FE.Advanced.advanced_features |            | FE.Basic.basic_features |            | ML.Ensemble.ensemble_model |            | ML.Linear.linear_model |  \n",
      "+-------------------------------+            +-------------------------+            +----------------------------+            +------------------------+  \n",
      "                                                                                                                                                          \n"
     ]
    }
   ],
   "source": [
    "# Create multi-level tree pattern\n",
    "root = ComposablePipeline(root_pipeline)\n",
    "\n",
    "# Level 1: Feature Engineering and ML branches\n",
    "fe_branch = root.add_child(\"FE\", fe_pipeline)\n",
    "ml_branch = root.add_child(\"ML\", ml_pipeline)\n",
    "\n",
    "# Level 2: Specific implementations\n",
    "fe_branch.add_child(\"Basic\", basic_fe_pipeline)\n",
    "fe_branch.add_child(\"Advanced\", advanced_fe_pipeline)\n",
    "\n",
    "ml_branch.add_child(\"Linear\", linear_ml_pipeline)\n",
    "ml_branch.add_child(\"Ensemble\", ensemble_ml_pipeline)\n",
    "\n",
    "# Build and examine the result\n",
    "tree_result = root.build()\n",
    "print(draw_pipeline(tree_result))"
   ]
  },
  {
   "cell_type": "markdown",
   "id": "pattern3-header",
   "metadata": {},
   "source": [
    "## Pattern 3: Merge Pattern\n",
    "\n",
    "Multiple separate pipelines converge into a single combined pipeline.\n",
    "\n",
    "**Structure**: `pipeline1`, `pipeline2`, `pipeline3` → `merged`"
   ]
  },
  {
   "cell_type": "code",
   "execution_count": 35,
   "id": "97a2eb82",
   "metadata": {},
   "outputs": [],
   "source": [
    "def extract_data():\n",
    "    \"\"\"Extract raw data.\"\"\"\n",
    "    return \"raw_data\"\n",
    "\n",
    "def basic_features():\n",
    "    \"\"\"Create basic features.\"\"\"\n",
    "    return f\"basic_features\"\n",
    "\n",
    "def advanced_features():\n",
    "    \"\"\"Create advanced features.\"\"\"\n",
    "    return f\"advanced_features\"\n",
    "\n",
    "def combine_features(*args):\n",
    "    return \"combined_features\""
   ]
  },
  {
   "cell_type": "code",
   "execution_count": 36,
   "id": "pattern3-pipelines",
   "metadata": {},
   "outputs": [],
   "source": [
    "# Create separate pipeline branches\n",
    "extraction_pipeline = Pipeline([\n",
    "    node(extract_data, inputs=None, outputs=\"extracted_data\", name=\"extract_data\")\n",
    "])\n",
    "\n",
    "feature_pipeline = Pipeline([\n",
    "    node(basic_features, inputs=None, outputs=\"processed_features\", name=\"process_features\")\n",
    "])\n",
    "\n",
    "modeling_pipeline = Pipeline([\n",
    "    node(advanced_features, inputs=None, outputs=\"advanced_features\", name=\"train_final_model\")\n",
    "])\n",
    "\n",
    "evaluation_pipeline = Pipeline([\n",
    "    node(combine_features, inputs=[\"extracted_data\",\"processed_features\", \"advanced_features\"], outputs=\"model_metrics\", name=\"evaluate_final_model\")\n",
    "])"
   ]
  },
  {
   "cell_type": "code",
   "execution_count": 37,
   "id": "pattern3-compose",
   "metadata": {},
   "outputs": [
    {
     "name": "stdout",
     "output_type": "stream",
     "text": [
      " +--------------+                  +------------------+                 +-------------------+  \n",
      " | extract_data |                  | process_features |                 | train_final_model |  \n",
      " +--------------+                  +------------------+                 +-------------------+  \n",
      "         *                                   *                                    *            \n",
      "         *                                   *                                    *            \n",
      "         *                                   *                                    *            \n",
      "+----------------+                +--------------------+                +-------------------+  \n",
      "| extracted_data |*               | processed_features |                | advanced_features |  \n",
      "+----------------+ ******         +--------------------+            ****+-------------------+  \n",
      "                         ******              *               *******                           \n",
      "                               ******         *         *****                                  \n",
      "                                     ****     *     ****                                       \n",
      "                                  +----------------------+                                     \n",
      "                                  | evaluate_final_model |                                     \n",
      "                                  +----------------------+                                     \n",
      "                                              *                                                \n",
      "                                              *                                                \n",
      "                                              *                                                \n",
      "                                     +---------------+                                         \n",
      "                                     | model_metrics |                                         \n",
      "                                     +---------------+                                         \n",
      "                                                                                               \n"
     ]
    }
   ],
   "source": [
    "# Create separate branches as ComposablePipelines\n",
    "branch1 = ComposablePipeline(extraction_pipeline)\n",
    "branch2 = ComposablePipeline(feature_pipeline)\n",
    "branch3 = ComposablePipeline(modeling_pipeline)\n",
    "branch4 = ComposablePipeline(evaluation_pipeline)\n",
    "\n",
    "# Merge via Kedro's native pipeline combination\n",
    "merged_result = branch1.build() + branch2.build() + branch3.build() + branch4.build()\n",
    "\n",
    "print(draw_pipeline(merged_result))"
   ]
  },
  {
   "cell_type": "markdown",
   "id": "pattern4-header",
   "metadata": {},
   "source": [
    "## Pattern 4: Grid Composition (Cartesian Product)\n",
    "\n",
    "Create all combinations of parent and child pipelines.\n",
    "\n",
    "**Structure**: `grid` → `grid.fe1`/`grid.fe2` → `grid.fe1.model1`, `grid.fe1.model2`, `grid.fe2.model1`, `grid.fe2.model2`"
   ]
  },
  {
   "cell_type": "code",
   "execution_count": 38,
   "id": "pattern4-pipelines",
   "metadata": {},
   "outputs": [],
   "source": [
    "def extract_data():\n",
    "    return \"raw_data\"\n",
    "\n",
    "def basic_features(data):\n",
    "    return f\"basic_features_{data}\"\n",
    "\n",
    "def advanced_features(data):\n",
    "    return f\"advanced_features_{data}\"\n",
    "\n",
    "def train_linear_model(features):\n",
    "    return f\"linear_model_{features}\"\n",
    "\n",
    "def train_ensemble_model(features):\n",
    "    return f\"ensemble_model_{features}\"\n",
    "def evaluate_model(model):\n",
    "    \"\"\"Evaluate model performance.\"\"\"\n",
    "    return f\"evaluation_of_{model}\"\n"
   ]
  },
  {
   "cell_type": "code",
   "execution_count": 39,
   "id": "b6583532",
   "metadata": {},
   "outputs": [],
   "source": [
    "# Create root data pipeline\n",
    "data_pipeline = Pipeline([\n",
    "    node(extract_data, inputs=None, outputs=\"raw_data\", name=\"extract_data\")\n",
    "])\n",
    "\n",
    "# Create feature engineering pipelines\n",
    "fe1_pipeline = Pipeline([\n",
    "    node(basic_features, inputs=\"raw_data\", outputs=\"fe1_features\", name=\"basic_fe\")\n",
    "])\n",
    "\n",
    "fe2_pipeline = Pipeline([\n",
    "    node(advanced_features, inputs=\"raw_data\", outputs=\"fe2_features\", name=\"advanced_fe\")\n",
    "])\n"
   ]
  },
  {
   "cell_type": "code",
   "execution_count": 40,
   "id": "29d05ae2",
   "metadata": {},
   "outputs": [
    {
     "name": "stdout",
     "output_type": "stream",
     "text": [
      "Grid Composition Pattern - Generated Combinations:\n",
      "  FE1.Ensemble.fe1_ensemble_model: ['FE1.fe1_features'] → ['FE1.Ensemble.fe1_ensemble_pred']\n",
      "  FE1.Linear.fe1_linear_model: ['FE1.fe1_features'] → ['FE1.Linear.fe1_linear_pred']\n",
      "  FE2.Ensemble.fe2_ensemble_model: ['FE2.fe2_features'] → ['FE2.Ensemble.fe2_ensemble_pred']\n",
      "  FE2.Linear.fe2_linear_model: ['FE2.fe2_features'] → ['FE2.Linear.fe2_linear_pred']\n",
      "\n",
      "Total combinations generated: 2 FE × 2 Models = 4 model nodes\n",
      "Plus 3 infrastructure nodes = 7 total nodes\n",
      "                                                                           +--------------+                                                                          \n",
      "                                                                           | extract_data |                                                                          \n",
      "                                                                           +--------------+                                                                          \n",
      "                                                                                   *                                                                                 \n",
      "                                                                                   *                                                                                 \n",
      "                                                                                   *                                                                                 \n",
      "                                                                             +----------+                                                                            \n",
      "                                                                         ****| raw_data |****                                                                        \n",
      "                                                                  *******    +----------+    ********                                                                \n",
      "                                                         *********                                   ********                                                        \n",
      "                                                  *******                                                    ********                                                \n",
      "                                             *****                                                                   ****                                            \n",
      "                                 +----------+                                                                           +-------------+                              \n",
      "                                 | basic_fe |                                                                           | advanced_fe |                              \n",
      "                                 +----------+                                                                           +-------------+                              \n",
      "                                       *                                                                                       *                                     \n",
      "                                       *                                                                                       *                                     \n",
      "                                       *                                                                                       *                                     \n",
      "                             +------------------+                                                                    +------------------+                            \n",
      "                             | FE1.fe1_features |                                                                    | FE2.fe2_features |                            \n",
      "                             +------------------+                                                                    +------------------+                            \n",
      "                           ***                   ***                                                               ***                   ***                         \n",
      "                       ****                         ****                                                       ****                         ****                     \n",
      "                     **                                 **                                                   **                                 **                   \n",
      "      +--------------------+                       +------------------+                       +--------------------+                       +------------------+      \n",
      "      | fe1_ensemble_model |                       | fe1_linear_model |                       | fe2_ensemble_model |                       | fe2_linear_model |      \n",
      "      +--------------------+                       +------------------+                       +--------------------+                       +------------------+      \n",
      "                 *                                           *                                           *                                           *               \n",
      "                 *                                           *                                           *                                           *               \n",
      "                 *                                           *                                           *                                           *               \n",
      "+--------------------------------+            +----------------------------+            +--------------------------------+            +----------------------------+ \n",
      "| FE1.Ensemble.fe1_ensemble_pred |            | FE1.Linear.fe1_linear_pred |            | FE2.Ensemble.fe2_ensemble_pred |            | FE2.Linear.fe2_linear_pred | \n",
      "+--------------------------------+            +----------------------------+            +--------------------------------+            +----------------------------+ \n",
      "                                                                                                                                                                     \n"
     ]
    }
   ],
   "source": [
    "\n",
    "# Grid Composition: Create all combinations of FE x Models\n",
    "root = ComposablePipeline(data_pipeline)\n",
    "\n",
    "# Level 1: Feature engineering branches\n",
    "fe1_branch = root.add_child(\"FE1\", fe1_pipeline)\n",
    "fe2_branch = root.add_child(\"FE2\", fe2_pipeline)\n",
    "\n",
    "# Level 2: Model combinations for each FE branch (Grid = FE x Models)\n",
    "# FE1 combinations\n",
    "fe1_branch.add_child(\"Linear\", Pipeline([\n",
    "    node(train_linear_model, inputs=\"fe1_features\", outputs=\"fe1_linear_pred\", name=\"fe1_linear_model\")\n",
    "]))\n",
    "fe1_branch.add_child(\"Ensemble\", Pipeline([\n",
    "    node(train_ensemble_model, inputs=\"fe1_features\", outputs=\"fe1_ensemble_pred\", name=\"fe1_ensemble_model\")\n",
    "]))\n",
    "\n",
    "# FE2 combinations\n",
    "fe2_branch.add_child(\"Linear\", Pipeline([\n",
    "    node(train_linear_model, inputs=\"fe2_features\", outputs=\"fe2_linear_pred\", name=\"fe2_linear_model\")\n",
    "]))\n",
    "fe2_branch.add_child(\"Ensemble\", Pipeline([\n",
    "    node(train_ensemble_model, inputs=\"fe2_features\", outputs=\"fe2_ensemble_pred\", name=\"fe2_ensemble_model\")\n",
    "]))\n",
    "\n",
    "# Build and examine the result\n",
    "grid_result = root.build()\n",
    "print(\"Grid Composition Pattern - Generated Combinations:\")\n",
    "for node in grid_result.nodes:\n",
    "    if 'model' in node.name:\n",
    "        print(f\"  {node.name}: {node.inputs} → {node.outputs}\")\n",
    "\n",
    "print(f\"\\nTotal combinations generated: 2 FE × 2 Models = 4 model nodes\")\n",
    "print(f\"Plus 3 infrastructure nodes = {len(grid_result.nodes)} total nodes\")\n",
    "\n",
    "# Visualize the grid\n",
    "print(draw_pipeline(grid_result))"
   ]
  },
  {
   "cell_type": "markdown",
   "id": "summary-header",
   "metadata": {},
   "source": [
    "## Summary\n",
    "\n",
    "This notebook demonstrated all 4 patterns supported by kedro-compose:\n",
    "\n",
    "1. **Simple Branching**: One parent → multiple children\n",
    "2. **Multi-Level Tree**: Hierarchical structure with multiple levels\n",
    "3. **Merge Pattern**: Combining separate pipelines\n",
    "4. **Grid Composition**: Cartesian product of pipeline combinations\n",
    "\n",
    "Each pattern shows how kedro-compose automatically generates namespace strings, eliminating the need for manual string concatenation and reducing errors in complex pipeline structures."
   ]
  }
 ],
 "metadata": {
  "kernelspec": {
   "display_name": "kedro-compose",
   "language": "python",
   "name": "python3"
  },
  "language_info": {
   "codemirror_mode": {
    "name": "ipython",
    "version": 3
   },
   "file_extension": ".py",
   "mimetype": "text/x-python",
   "name": "python",
   "nbconvert_exporter": "python",
   "pygments_lexer": "ipython3",
   "version": "3.11.10"
  }
 },
 "nbformat": 4,
 "nbformat_minor": 5
}
